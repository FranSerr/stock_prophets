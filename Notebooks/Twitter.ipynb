{
 "cells": [
  {
   "cell_type": "code",
   "execution_count": 4,
   "metadata": {},
   "outputs": [],
   "source": [
    "#!pip install -q tweepy\n",
    "import tweepy\n",
    "import json"
   ]
  },
  {
   "cell_type": "code",
   "execution_count": 6,
   "metadata": {},
   "outputs": [],
   "source": [
    "with open('tw_creds.txt', encoding='utf-8') as data_file:\n",
    "    creds = json.loads(data_file.read())\n",
    "\n",
    "\n",
    "consumer_key = creds['consumer_key']\n",
    "#'uf3NrEd1GI3lm9ZbBOo5TYpMs'\n",
    "consumer_secret= creds['consumer_secret']\n",
    "#'fT9uQtoq3FPzLh9eGsJjDvbsoFtQMENe0oMOW9tmpiDCNhRZdn'\n",
    "access_token= creds['access_token']\n",
    "#'953304874409578496-nmU72nKJhgUuSy6rkTOllepAbsvzqF3'\n",
    "access_token_secret= creds['access_token_secret']\n",
    "#'JDXhprQMG99csBLXxSBR3XtLMdmSgWxCZj9uZdlqzyHFC'\n",
    "\n",
    "auth = tweepy.OAuthHandler(consumer_key, consumer_secret)\n",
    "auth.set_access_token(access_token, access_token_secret)\n",
    "\n",
    "api = tweepy.API(auth)"
   ]
  },
  {
   "cell_type": "code",
   "execution_count": 14,
   "metadata": {},
   "outputs": [],
   "source": [
    "# In this example, the handler is time.sleep(15 * 60),\n",
    "# but you can of course handle it in any way you want.\n",
    "\n",
    "def limit_handled(cursor):\n",
    "    while True:\n",
    "        try:\n",
    "            yield cursor.next()\n",
    "        except tweepy.RateLimitError:\n",
    "            time.sleep(15 * 60)"
   ]
  },
  {
   "cell_type": "code",
   "execution_count": 41,
   "metadata": {},
   "outputs": [
    {
     "name": "stderr",
     "output_type": "stream",
     "text": [
      "/Users/estebandiaz/anaconda3/lib/python3.6/site-packages/ipykernel_launcher.py:5: DeprecationWarning: generator 'limit_handled' raised StopIteration\n",
      "  \"\"\"\n"
     ]
    }
   ],
   "source": [
    "a = []\n",
    "texts = []\n",
    "dates = []\n",
    "\n",
    "for status in limit_handled(tweepy.Cursor(api.user_timeline, id='BWcapitalMex', ).items(10)):\n",
    "    a.append(status)\n",
    "    texts.append(status.text)\n",
    "    dates.append(status.created_at)"
   ]
  },
  {
   "cell_type": "code",
   "execution_count": 42,
   "metadata": {},
   "outputs": [
    {
     "data": {
      "text/plain": [
       "['__class__',\n",
       " '__delattr__',\n",
       " '__dict__',\n",
       " '__dir__',\n",
       " '__doc__',\n",
       " '__eq__',\n",
       " '__format__',\n",
       " '__ge__',\n",
       " '__getattribute__',\n",
       " '__getstate__',\n",
       " '__gt__',\n",
       " '__hash__',\n",
       " '__init__',\n",
       " '__init_subclass__',\n",
       " '__le__',\n",
       " '__lt__',\n",
       " '__module__',\n",
       " '__ne__',\n",
       " '__new__',\n",
       " '__reduce__',\n",
       " '__reduce_ex__',\n",
       " '__repr__',\n",
       " '__setattr__',\n",
       " '__sizeof__',\n",
       " '__str__',\n",
       " '__subclasshook__',\n",
       " '__weakref__',\n",
       " '_api',\n",
       " '_json',\n",
       " 'author',\n",
       " 'contributors',\n",
       " 'coordinates',\n",
       " 'created_at',\n",
       " 'destroy',\n",
       " 'entities',\n",
       " 'favorite',\n",
       " 'favorite_count',\n",
       " 'favorited',\n",
       " 'geo',\n",
       " 'id',\n",
       " 'id_str',\n",
       " 'in_reply_to_screen_name',\n",
       " 'in_reply_to_status_id',\n",
       " 'in_reply_to_status_id_str',\n",
       " 'in_reply_to_user_id',\n",
       " 'in_reply_to_user_id_str',\n",
       " 'is_quote_status',\n",
       " 'lang',\n",
       " 'parse',\n",
       " 'parse_list',\n",
       " 'place',\n",
       " 'possibly_sensitive',\n",
       " 'quoted_status',\n",
       " 'quoted_status_id',\n",
       " 'quoted_status_id_str',\n",
       " 'retweet',\n",
       " 'retweet_count',\n",
       " 'retweeted',\n",
       " 'retweets',\n",
       " 'source',\n",
       " 'source_url',\n",
       " 'text',\n",
       " 'truncated',\n",
       " 'user']"
      ]
     },
     "execution_count": 42,
     "metadata": {},
     "output_type": "execute_result"
    }
   ],
   "source": [
    "dir(a[0])"
   ]
  },
  {
   "cell_type": "code",
   "execution_count": 73,
   "metadata": {},
   "outputs": [
    {
     "data": {
      "text/plain": [
       "{'created_at': 'Thu Sep 13 18:39:25 +0000 2018',\n",
       " 'id': 1040308989316276224,\n",
       " 'id_str': '1040308989316276224',\n",
       " 'text': 'Bolsa mexicana abre al alza por expectativas de diálogo comercial entre China y EU\\nhttps://t.co/xE2jnr4SDc #TRMX',\n",
       " 'truncated': False,\n",
       " 'entities': {'hashtags': [{'text': 'TRMX', 'indices': [107, 112]}],\n",
       "  'symbols': [],\n",
       "  'user_mentions': [],\n",
       "  'urls': [{'url': 'https://t.co/xE2jnr4SDc',\n",
       "    'expanded_url': 'https://www.eleconomista.com.mx/mercados/Bolsa-mexicana-abre-al-alza-por-expectativas-de-dialogo-comercial-entre-China-y-EU-20180913-0091.html',\n",
       "    'display_url': 'eleconomista.com.mx/mercados/Bolsa…',\n",
       "    'indices': [83, 106]}]},\n",
       " 'source': '<a href=\"https://mobile.twitter.com\" rel=\"nofollow\">Twitter Lite</a>',\n",
       " 'in_reply_to_status_id': None,\n",
       " 'in_reply_to_status_id_str': None,\n",
       " 'in_reply_to_user_id': None,\n",
       " 'in_reply_to_user_id_str': None,\n",
       " 'in_reply_to_screen_name': None,\n",
       " 'user': {'id': 2990791373,\n",
       "  'id_str': '2990791373',\n",
       "  'name': 'BWCapital',\n",
       "  'screen_name': 'BWcapitalMex',\n",
       "  'location': ' contacto@bwc.com.mx CNBV30072',\n",
       "  'description': 'BWCapital ®, Firma Mexicana De Asesores En Inversiones Independiente Especializada En La Gestión Activa Y Discrecional Para Grandes Capitales Fundada en 2010',\n",
       "  'url': 'https://t.co/YgNZJpd6r6',\n",
       "  'entities': {'url': {'urls': [{'url': 'https://t.co/YgNZJpd6r6',\n",
       "      'expanded_url': 'http://www.blackwallstreetcapital.com',\n",
       "      'display_url': 'blackwallstreetcapital.com',\n",
       "      'indices': [0, 23]}]},\n",
       "   'description': {'urls': []}},\n",
       "  'protected': False,\n",
       "  'followers_count': 3206,\n",
       "  'friends_count': 25,\n",
       "  'listed_count': 63,\n",
       "  'created_at': 'Wed Jan 21 23:06:26 +0000 2015',\n",
       "  'favourites_count': 162,\n",
       "  'utc_offset': None,\n",
       "  'time_zone': None,\n",
       "  'geo_enabled': False,\n",
       "  'verified': False,\n",
       "  'statuses_count': 6196,\n",
       "  'lang': 'es',\n",
       "  'contributors_enabled': False,\n",
       "  'is_translator': False,\n",
       "  'is_translation_enabled': False,\n",
       "  'profile_background_color': 'C0DEED',\n",
       "  'profile_background_image_url': 'http://abs.twimg.com/images/themes/theme1/bg.png',\n",
       "  'profile_background_image_url_https': 'https://abs.twimg.com/images/themes/theme1/bg.png',\n",
       "  'profile_background_tile': False,\n",
       "  'profile_image_url': 'http://pbs.twimg.com/profile_images/701754224309219328/cpQ_LEj7_normal.jpg',\n",
       "  'profile_image_url_https': 'https://pbs.twimg.com/profile_images/701754224309219328/cpQ_LEj7_normal.jpg',\n",
       "  'profile_banner_url': 'https://pbs.twimg.com/profile_banners/2990791373/1521206945',\n",
       "  'profile_link_color': '1DA1F2',\n",
       "  'profile_sidebar_border_color': 'C0DEED',\n",
       "  'profile_sidebar_fill_color': 'DDEEF6',\n",
       "  'profile_text_color': '333333',\n",
       "  'profile_use_background_image': True,\n",
       "  'has_extended_profile': False,\n",
       "  'default_profile': True,\n",
       "  'default_profile_image': False,\n",
       "  'following': False,\n",
       "  'follow_request_sent': False,\n",
       "  'notifications': False,\n",
       "  'translator_type': 'none'},\n",
       " 'geo': None,\n",
       " 'coordinates': None,\n",
       " 'place': None,\n",
       " 'contributors': None,\n",
       " 'is_quote_status': False,\n",
       " 'retweet_count': 0,\n",
       " 'favorite_count': 0,\n",
       " 'favorited': False,\n",
       " 'retweeted': False,\n",
       " 'possibly_sensitive': False,\n",
       " 'lang': 'es'}"
      ]
     },
     "execution_count": 73,
     "metadata": {},
     "output_type": "execute_result"
    }
   ],
   "source": [
    "a[9]._json"
   ]
  },
  {
   "cell_type": "code",
   "execution_count": null,
   "metadata": {},
   "outputs": [],
   "source": []
  }
 ],
 "metadata": {
  "kernelspec": {
   "display_name": "Python 3",
   "language": "python",
   "name": "python3"
  },
  "language_info": {
   "codemirror_mode": {
    "name": "ipython",
    "version": 3
   },
   "file_extension": ".py",
   "mimetype": "text/x-python",
   "name": "python",
   "nbconvert_exporter": "python",
   "pygments_lexer": "ipython3",
   "version": "3.6.5"
  }
 },
 "nbformat": 4,
 "nbformat_minor": 2
}
