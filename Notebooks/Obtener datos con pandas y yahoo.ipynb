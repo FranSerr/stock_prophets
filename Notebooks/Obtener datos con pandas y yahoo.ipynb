{
 "cells": [
  {
   "cell_type": "code",
   "execution_count": 1,
   "metadata": {},
   "outputs": [],
   "source": [
    "from pandas_datareader import data\n",
    "import matplotlib.pyplot as plt\n",
    "import pandas as pd\n",
    "import datetime\n",
    "from utils.extract import db_connection, download_data\n",
    "import json\n",
    "import numpy as np\n",
    "\n",
    "%load_ext autoreload\n",
    "%autoreload 2\n",
    "# Define the instruments to download. We would like to see Apple, Microsoft and the S&P500 index.\n",
    "\n",
    "lista_tickers = pd.read_csv('tickers.csv')[['Ticker']]\n",
    "\n",
    "now = datetime.datetime.now()\n",
    "\n",
    "# We would like all available data from 01/01/2000 until 12/31/2016.\n",
    "start_date = '2000-01-01'\n",
    "end_date = '{}-{}-{}'.format(now.year, now.month, now.day)\n",
    "\n",
    "with open('creds.txt', encoding='utf-8') as data_file:\n",
    "    creds = json.loads(data_file.read())"
   ]
  },
  {
   "cell_type": "code",
   "execution_count": 2,
   "metadata": {},
   "outputs": [
    {
     "data": {
      "text/plain": [
       "'2018-9-17'"
      ]
     },
     "execution_count": 2,
     "metadata": {},
     "output_type": "execute_result"
    }
   ],
   "source": [
    "end_date"
   ]
  },
  {
   "cell_type": "code",
   "execution_count": 3,
   "metadata": {},
   "outputs": [],
   "source": [
    "def create_new_stock_table(table_name, creds):\n",
    "    \"\"\"\n",
    "    Hace una nueva tabla de stocks según el ticker que le pongas\n",
    "    \n",
    "    Args:\n",
    "        table_name(str): nombre del ticker\n",
    "        conn(connection object): objeto de connección a la base de datos\n",
    "    \"\"\"\n",
    "    conn = db_connection(creds)\n",
    "    query = \"\"\"CREATE TABLE {} (id SERIAL,\n",
    "    date date NOT NULL UNIQUE,\n",
    "    high float,\n",
    "    low float,\n",
    "    open float,\n",
    "    close float,\n",
    "    volume float, \n",
    "    adj_close float, PRIMARY KEY (id));\"\"\".format(table_name)\n",
    "    download_data(conn, query)\n",
    "\n",
    "def update_in_db(df, table_name, creds):\n",
    "    \n",
    "    conn = db_connection(creds)\n",
    "    matrix = np.array(df.to_records().view(type=np.matrix))[0]\n",
    "    data = []\n",
    "    \n",
    "    for i in range(len(matrix)):\n",
    "        date = \"('\" + str(matrix[i][0].year) + \"-\" + str(matrix[i][0].month) + \"-\" + str(matrix[i][0].day) + \"')::date\"\n",
    "        High = str(matrix[i][1])\n",
    "        Low = str(matrix[i][2])\n",
    "        Open = str(matrix[i][3])\n",
    "        Close = str(matrix[i][4])\n",
    "        Volume = str(matrix[i][5])\n",
    "        Adj_Clos = str(matrix[i][6])\n",
    "        prices = \"(\" + date + \", \" + High + \", \" + Low + \", \" + Open + \", \" + Close + \", \" + Volume + \",\" + Adj_Clos +\")\"\n",
    "        data.append(prices)\n",
    "    \n",
    "    data = str(data).replace(\"[\", \"(\").replace(\"]\", \")\").replace('(', '', 1)[:-1].replace('\"','')\n",
    "    table_name = table_name.replace('-','_')\n",
    "    query = \"\"\"INSERT INTO {} (date, high, low, open, close, volume, adj_close) VALUES{} ON CONFLICT ON CONSTRAINT {}_date_key DO NOTHING;\"\"\".format(table_name.upper(), data, table_name.lower())\n",
    "    \n",
    "    download_data(conn, query)"
   ]
  },
  {
   "cell_type": "code",
   "execution_count": 4,
   "metadata": {
    "scrolled": false
   },
   "outputs": [
    {
     "name": "stderr",
     "output_type": "stream",
     "text": [
      "ERROR:root:relation \"xlk_mx\" already exists\n",
      "\n"
     ]
    },
    {
     "name": "stdout",
     "output_type": "stream",
     "text": [
      "Se guardó: XLK.MX\n",
      "Se guardó: XLE.MX\n",
      "Se guardó: X.MX\n",
      "Se guardó: WFC.MX\n",
      "Se guardó: VGK.MX\n",
      "Se guardó: V.MX\n",
      "Se guardó: UNH.MX\n",
      "Se guardó: TWTR.MX\n",
      "Se guardó: TSLA.MX\n",
      "Se guardó: T.MX\n",
      "Se guardó: SLV.MX\n",
      "Se guardó: SHY.MX\n",
      "Se guardó: SBUX.MX\n",
      "Se guardó: QQQ.MX\n",
      "Se guardó: PFE.MX\n",
      "Se guardó: NVDA.MX\n",
      "Se guardó: NKE.MX\n",
      "Se guardó: NFLX.MX\n",
      "Se guardó: MU.MX\n",
      "Se guardó: MSFT.MX\n",
      "Se guardó: MCD.MX\n",
      "Se guardó: MA.MX\n",
      "Se guardó: JPM.MX\n",
      "Se guardó: IVV.MX\n",
      "Se guardó: IAU.MX\n",
      "Se guardó: HD.MX\n",
      "Se guardó: GOOGL.MX\n",
      "Se guardó: GILD.MX\n",
      "Se guardó: FB.MX\n",
      "Se guardó: EMB.MX\n",
      "Se guardó: EEM.MX\n",
      "Se guardó: DIS.MX\n",
      "Se guardó: CSCO.MX\n",
      "Se guardó: COST.MX\n",
      "Se guardó: BAC.MX\n",
      "Se guardó: BABAN.MX\n",
      "Se guardó: AXP.MX\n",
      "Se guardó: AMZN.MX\n",
      "Se guardó: AGNN.MX\n",
      "Se guardó: AAPL.MX\n",
      "Se guardó: WALMEX.MX\n",
      "Se guardó: VINTE.MX\n",
      "Se guardó: TERRA13.MX\n",
      "Se guardó: SPORTS.MX\n",
      "Se guardó: SORIANAB.MX\n",
      "Se guardó: SMARTRC14.MX\n",
      "Se guardó: RA.MX\n",
      "Se guardó: OMAB.MX\n",
      "Se guardó: NAFTRACISHRS.MX\n",
      "Se guardó: MEXCHEM.MX\n",
      "Se guardó: MEGACPO.MX\n"
     ]
    },
    {
     "name": "stderr",
     "output_type": "stream",
     "text": [
      "ERROR:root:syntax error at or near \"-\"\n",
      "LINE 1: CREATE TABLE LIVEPOLC-1_MX (id SERIAL,\n",
      "                             ^\n",
      "\n",
      "ERROR:root:relation \"livepolc_1_mx\" does not exist\n",
      "LINE 1: INSERT INTO LIVEPOLC_1_MX (date, high, low, open, close, vol...\n",
      "                    ^\n",
      "\n"
     ]
    },
    {
     "name": "stdout",
     "output_type": "stream",
     "text": [
      "Se guardó: LIVEPOLC-1.MX\n",
      "Se guardó: LALAB.MX\n",
      "Se guardó: LACOMERUBC.MX\n",
      "Se guardó: LABB.MX\n",
      "Se guardó: KIMBERA.MX\n",
      "Se guardó: GRUMAB.MX\n",
      "Se guardó: GMEXICOB.MX\n",
      "Se guardó: GFNORTEO.MX\n",
      "Se guardó: GENTERA.MX\n",
      "Se guardó: GAPB.MX\n",
      "Se guardó: FUNO11.MX\n",
      "Se guardó: FIBRAMQ12.MX\n",
      "Se guardó: FEMSAUBD.MX\n",
      "Se guardó: ELEKTRA.MX\n",
      "Se guardó: DIABLOI10.MX\n",
      "Se guardó: CUERVO.MX\n",
      "Se guardó: CHDRAUIB.MX\n",
      "Se guardó: CEMEXCPO.MX\n",
      "Se guardó: CADUA.MX\n",
      "Se guardó: BOLSAA.MX\n",
      "Se guardó: BIMBOA.MX\n",
      "Se guardó: BBAJIOO.MX\n",
      "Se guardó: BACHOCOB.MX\n",
      "Se guardó: ASURB.MX\n",
      "Se guardó: ANGELD10.MX\n",
      "Se guardó: AMXL.MX\n",
      "Se guardó: ALSEA.MX\n",
      "Se guardó: ALFAA.MX\n",
      "Se guardó: AEROMEX.MX\n",
      "Se guardó: ACTINVRB.MX\n",
      "Se guardó: AC.MX\n"
     ]
    }
   ],
   "source": [
    "# User pandas_reader.data.DataReader to load the desired data. As simple as that.\n",
    "\n",
    "for ticker in lista_tickers['Ticker']:\n",
    "    panel_data = data.DataReader(ticker, 'yahoo', start_date, end_date)\n",
    "    table_name = ticker.replace('.','_')\n",
    "    create_new_stock_table(table_name, creds)\n",
    "    update_in_db(panel_data, table_name, creds)\n",
    "    print(\"Se guardó: {}\".format(ticker))"
   ]
  },
  {
   "cell_type": "code",
   "execution_count": null,
   "metadata": {},
   "outputs": [],
   "source": []
  }
 ],
 "metadata": {
  "kernelspec": {
   "display_name": "Python 3",
   "language": "python",
   "name": "python3"
  },
  "language_info": {
   "codemirror_mode": {
    "name": "ipython",
    "version": 3
   },
   "file_extension": ".py",
   "mimetype": "text/x-python",
   "name": "python",
   "nbconvert_exporter": "python",
   "pygments_lexer": "ipython3",
   "version": "3.6.5"
  }
 },
 "nbformat": 4,
 "nbformat_minor": 1
}
