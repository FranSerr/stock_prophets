{
 "cells": [
  {
   "cell_type": "code",
   "execution_count": 43,
   "metadata": {},
   "outputs": [],
   "source": [
    "from pandas_datareader import data\n",
    "import matplotlib.pyplot as plt\n",
    "import pandas as pd\n",
    "\n",
    "# Define the instruments to download. We would like to see Apple, Microsoft and the S&P500 index.\n",
    "tickers = ['WALMEX']\n",
    "\n",
    "# We would like all available data from 01/01/2000 until 12/31/2016.\n",
    "start_date = '2005-01-01'\n",
    "end_date = '2018-09-12'\n",
    "\n",
    "# User pandas_reader.data.DataReader to load the desired data. As simple as that.\n",
    "panel_data = data.DataReader('WALMEX.MX', 'yahoo', start_date, end_date)"
   ]
  },
  {
   "cell_type": "code",
   "execution_count": 44,
   "metadata": {},
   "outputs": [
    {
     "data": {
      "text/html": [
       "<div>\n",
       "<style scoped>\n",
       "    .dataframe tbody tr th:only-of-type {\n",
       "        vertical-align: middle;\n",
       "    }\n",
       "\n",
       "    .dataframe tbody tr th {\n",
       "        vertical-align: top;\n",
       "    }\n",
       "\n",
       "    .dataframe thead th {\n",
       "        text-align: right;\n",
       "    }\n",
       "</style>\n",
       "<table border=\"1\" class=\"dataframe\">\n",
       "  <thead>\n",
       "    <tr style=\"text-align: right;\">\n",
       "      <th></th>\n",
       "      <th>High</th>\n",
       "      <th>Low</th>\n",
       "      <th>Open</th>\n",
       "      <th>Close</th>\n",
       "      <th>Volume</th>\n",
       "      <th>Adj Close</th>\n",
       "    </tr>\n",
       "    <tr>\n",
       "      <th>Date</th>\n",
       "      <th></th>\n",
       "      <th></th>\n",
       "      <th></th>\n",
       "      <th></th>\n",
       "      <th></th>\n",
       "      <th></th>\n",
       "    </tr>\n",
       "  </thead>\n",
       "  <tbody>\n",
       "    <tr>\n",
       "      <th>2018-09-06</th>\n",
       "      <td>52.810001</td>\n",
       "      <td>52.169998</td>\n",
       "      <td>52.459999</td>\n",
       "      <td>52.680000</td>\n",
       "      <td>10715715.0</td>\n",
       "      <td>52.680000</td>\n",
       "    </tr>\n",
       "    <tr>\n",
       "      <th>2018-09-07</th>\n",
       "      <td>52.599998</td>\n",
       "      <td>51.619999</td>\n",
       "      <td>52.520000</td>\n",
       "      <td>52.250000</td>\n",
       "      <td>8231533.0</td>\n",
       "      <td>52.250000</td>\n",
       "    </tr>\n",
       "    <tr>\n",
       "      <th>2018-09-10</th>\n",
       "      <td>52.900002</td>\n",
       "      <td>51.860001</td>\n",
       "      <td>52.419998</td>\n",
       "      <td>52.759998</td>\n",
       "      <td>7376673.0</td>\n",
       "      <td>52.759998</td>\n",
       "    </tr>\n",
       "    <tr>\n",
       "      <th>2018-09-11</th>\n",
       "      <td>53.549999</td>\n",
       "      <td>52.320000</td>\n",
       "      <td>52.400002</td>\n",
       "      <td>53.259998</td>\n",
       "      <td>15278685.0</td>\n",
       "      <td>53.259998</td>\n",
       "    </tr>\n",
       "    <tr>\n",
       "      <th>2018-09-12</th>\n",
       "      <td>53.330002</td>\n",
       "      <td>52.360001</td>\n",
       "      <td>53.130001</td>\n",
       "      <td>52.669998</td>\n",
       "      <td>15867470.0</td>\n",
       "      <td>52.669998</td>\n",
       "    </tr>\n",
       "  </tbody>\n",
       "</table>\n",
       "</div>"
      ],
      "text/plain": [
       "                 High        Low       Open      Close      Volume  Adj Close\n",
       "Date                                                                         \n",
       "2018-09-06  52.810001  52.169998  52.459999  52.680000  10715715.0  52.680000\n",
       "2018-09-07  52.599998  51.619999  52.520000  52.250000   8231533.0  52.250000\n",
       "2018-09-10  52.900002  51.860001  52.419998  52.759998   7376673.0  52.759998\n",
       "2018-09-11  53.549999  52.320000  52.400002  53.259998  15278685.0  53.259998\n",
       "2018-09-12  53.330002  52.360001  53.130001  52.669998  15867470.0  52.669998"
      ]
     },
     "execution_count": 44,
     "metadata": {},
     "output_type": "execute_result"
    }
   ],
   "source": [
    "panel_data.tail()"
   ]
  }
 ],
 "metadata": {
  "kernelspec": {
   "display_name": "Python 3",
   "language": "python",
   "name": "python3"
  },
  "language_info": {
   "codemirror_mode": {
    "name": "ipython",
    "version": 3
   },
   "file_extension": ".py",
   "mimetype": "text/x-python",
   "name": "python",
   "nbconvert_exporter": "python",
   "pygments_lexer": "ipython3",
   "version": "3.6.5"
  }
 },
 "nbformat": 4,
 "nbformat_minor": 1
}
